{
 "cells": [
  {
   "cell_type": "markdown",
   "id": "3324c63f",
   "metadata": {},
   "source": [
    "# Teoria da Computação - Expressões regulares / Máscaras de validação"
   ]
  },
  {
   "cell_type": "markdown",
   "id": "cee20a68",
   "metadata": {},
   "source": [
    "### Alfabetos"
   ]
  },
  {
   "cell_type": "code",
   "execution_count": 306,
   "id": "4d9bbc6e",
   "metadata": {},
   "outputs": [
    {
     "name": "stdout",
     "output_type": "stream",
     "text": [
      "['a', 'b', 'c', 'd', 'e', 'f', 'g', 'h', 'i', 'j', 'k', 'l', 'm', 'n', 'o', 'p', 'q', 'r', 's', 't', 'u', 'v', 'w', 'x', 'y', 'z'] \n",
      " ['A', 'B', 'C', 'D', 'E', 'F', 'G', 'H', 'I', 'J', 'K', 'L', 'M', 'N', 'O', 'P', 'Q', 'R', 'S', 'T', 'U', 'V', 'W', 'X', 'Y', 'Z'] \n",
      " ['0', '1', '2', '3', '4', '5', '6', '7', '8', '9']\n"
     ]
    }
   ],
   "source": [
    "#alfabeto\n",
    "alfa = 'a,b,c,d,e,f,g,h,i,j,k,l,m,n,o,p,q,r,s,t,u,v,w,x,y,z'\n",
    "beta = 'A,B,C,D,E,F,G,H,I,J,K,L,M,N,O,P,Q,R,S,T,U,V,W,X,Y,Z'\n",
    "gama = '0,1,2,3,4,5,6,7,8,9'\n",
    "\n",
    "email_1 = ['.com.br','.br']\n",
    "\n",
    "alfa = alfa.split(\",\")\n",
    "beta = beta.split(\",\")\n",
    "gama = gama.split(\",\")\n",
    "\n",
    "print(alfa,'\\n',beta,'\\n',gama)"
   ]
  },
  {
   "cell_type": "markdown",
   "id": "b011fac8",
   "metadata": {},
   "source": [
    "## Nome, nome do meio e sobrenome"
   ]
  },
  {
   "cell_type": "code",
   "execution_count": 240,
   "id": "dd821751",
   "metadata": {},
   "outputs": [],
   "source": [
    "class Nome:\n",
    "    def __init__(self,p):\n",
    "        self.p = p\n",
    "\n",
    "    def primeiraLetra(self):\n",
    "        primeiraL = [*self.p][0]\n",
    "        return primeiraL\n",
    "\n",
    "    def resto(self):\n",
    "        resto = [*self.p][1:]\n",
    "        return resto\n",
    "\n",
    "#--------------------------------------------------------------------------\n",
    "def verificaPalavra(primeiraL,resto):\n",
    "    aux=0\n",
    "    if (primeiraL in beta):\n",
    "        if len(resto)>=1:\n",
    "            for i in resto:\n",
    "                if i in alfa:\n",
    "                    aux +=1\n",
    "            if aux == len(resto):\n",
    "                return \"Aceita\"\n",
    "            else:\n",
    "                return \"Rejeitada.\"\n",
    "        else:\n",
    "            \"Rejeitada.\"\n",
    "    else:\n",
    "        return \"Rejeitada.\"\n",
    "\n",
    "def verificaNC(n):\n",
    "    if len(n.split()) >=2:\n",
    "        cont=0\n",
    "        for i in range(len(n.split())):\n",
    "            nome = Nome(n.split()[i])\n",
    "            l1 = nome.primeiraLetra()\n",
    "            r = nome.resto()\n",
    "\n",
    "            if verificaPalavra(l1,r) == \"Aceita\":\n",
    "                cont += 1\n",
    "            else:\n",
    "                break\n",
    "\n",
    "        if cont == len(n.split()):\n",
    "            return 'Nome completo aceito.'\n",
    "        else:\n",
    "            return 'Nome rejeitado.'\n",
    "    else:\n",
    "        return 'Nome rejeitado. Falta um sobrenome.'"
   ]
  },
  {
   "cell_type": "markdown",
   "id": "81dba6a8",
   "metadata": {},
   "source": [
    "### Testes"
   ]
  },
  {
   "cell_type": "code",
   "execution_count": 247,
   "id": "4ec3a69b",
   "metadata": {},
   "outputs": [
    {
     "name": "stdout",
     "output_type": "stream",
     "text": [
      "Nome completo aceito.\n",
      "Nome completo aceito.\n",
      "Nome completo aceito.\n"
     ]
    }
   ],
   "source": [
    "aceitos = ['Ada Lovelace', 'Alan Turing', 'Stephen Cole Kleene']\n",
    "\n",
    "for i in range(len(aceitos)):\n",
    "    print(verificaNC(aceitos[i]))"
   ]
  },
  {
   "cell_type": "code",
   "execution_count": 249,
   "id": "fc7bf9dc",
   "metadata": {},
   "outputs": [
    {
     "name": "stdout",
     "output_type": "stream",
     "text": [
      "Nome rejeitado. Falta um sobrenome.\n",
      "Nome rejeitado. Falta um sobrenome.\n",
      "Nome rejeitado. Falta um sobrenome.\n",
      "Nome rejeitado.\n",
      "Nome rejeitado.\n"
     ]
    }
   ],
   "source": [
    "rejeitados = ['1Alan', 'Alan', 'A1an', 'A1an Turing', 'Alan turing']\n",
    "for i in range(len(rejeitados)):\n",
    "    print(verificaNC(rejeitados[i]))"
   ]
  },
  {
   "cell_type": "markdown",
   "id": "3295f6ed",
   "metadata": {},
   "source": [
    "## E-mail"
   ]
  },
  {
   "cell_type": "code",
   "execution_count": 264,
   "id": "caefccde",
   "metadata": {},
   "outputs": [
    {
     "name": "stdout",
     "output_type": "stream",
     "text": [
      "aceita\n"
     ]
    }
   ],
   "source": [
    "email = 'ju@.com.br'\n",
    "\n",
    "#def verificaEmail(email):\n",
    "aux = 0\n",
    "if '@' in email:\n",
    "    email_ = email.split(\"@\")\n",
    "    if len(email_)==2:\n",
    "        if email_[0] in alfa:\n",
    "        \n",
    "        \n",
    "            print('ok')\n",
    "        \n",
    "        else:\n",
    "            print('Email rejeitado.3')\n",
    "    else:\n",
    "        print('Email rejeitado.2')\n",
    "else:\n",
    "    print('Email rejeitado.1')\n"
   ]
  },
  {
   "cell_type": "code",
   "execution_count": 299,
   "id": "8ab53fcf",
   "metadata": {},
   "outputs": [
    {
     "name": "stdout",
     "output_type": "stream",
     "text": [
      "dljfnjk\n"
     ]
    }
   ],
   "source": [
    "email = 'ju@dljfnjk.com.br'\n",
    "email_ = email.split(\"@\")\n",
    "email_\n",
    "a= email_[1].split('.com.br')[0]\n",
    "print(a)"
   ]
  },
  {
   "cell_type": "code",
   "execution_count": 305,
   "id": "cca6a210",
   "metadata": {},
   "outputs": [
    {
     "name": "stdout",
     "output_type": "stream",
     "text": [
      "False\n",
      "False\n"
     ]
    }
   ],
   "source": [
    "for i in range(len(email_)):\n",
    "    \n",
    "    print(email_ in email_1)"
   ]
  },
  {
   "cell_type": "code",
   "execution_count": 250,
   "id": "1afb353f",
   "metadata": {},
   "outputs": [],
   "source": []
  },
  {
   "cell_type": "code",
   "execution_count": null,
   "id": "bd340e70",
   "metadata": {},
   "outputs": [],
   "source": []
  }
 ],
 "metadata": {
  "kernelspec": {
   "display_name": "Python 3 (ipykernel)",
   "language": "python",
   "name": "python3"
  },
  "language_info": {
   "codemirror_mode": {
    "name": "ipython",
    "version": 3
   },
   "file_extension": ".py",
   "mimetype": "text/x-python",
   "name": "python",
   "nbconvert_exporter": "python",
   "pygments_lexer": "ipython3",
   "version": "3.9.7"
  }
 },
 "nbformat": 4,
 "nbformat_minor": 5
}
