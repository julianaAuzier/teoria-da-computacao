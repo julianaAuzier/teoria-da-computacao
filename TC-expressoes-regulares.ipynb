{
 "cells": [
  {
   "cell_type": "code",
   "execution_count": 1,
   "id": "46a8dede",
   "metadata": {},
   "outputs": [],
   "source": [
    "import re"
   ]
  },
  {
   "cell_type": "markdown",
   "id": "57c4d8d1",
   "metadata": {},
   "source": [
    "### Nome"
   ]
  },
  {
   "cell_type": "code",
   "execution_count": 2,
   "id": "bb2a6889",
   "metadata": {},
   "outputs": [],
   "source": [
    "def verificaNome(nome):\n",
    "    if re.match('[A-Z]+[a-z]+ ([A-Z]+[a-z]+ )?[A-Z]+[a-z]+',nome) == None:\n",
    "        return 'Nome rejeitado'\n",
    "    else:\n",
    "        verificacao = re.match('[A-Z]+[a-z]+ ([A-Z]+[a-z]+ )?[A-Z]+[a-z]+',nome).group().split()\n",
    "        if verificacao == nome.split():\n",
    "            return 'Nome aceito'\n",
    "        else:\n",
    "            return 'Nome rejeitado'"
   ]
  },
  {
   "cell_type": "code",
   "execution_count": null,
   "id": "d0f0bc57",
   "metadata": {},
   "outputs": [],
   "source": []
  },
  {
   "cell_type": "markdown",
   "id": "5dc446d4",
   "metadata": {},
   "source": [
    "### Email"
   ]
  },
  {
   "cell_type": "code",
   "execution_count": 3,
   "id": "ed086863",
   "metadata": {},
   "outputs": [],
   "source": [
    "def verificaEmail(email):\n",
    "    if re.match('[a-z]+@[a-z]+(.com.br|.br)',email) == None:\n",
    "        return 'Email rejeitado'\n",
    "    else:\n",
    "        verificacao = re.match('[a-z]+@[a-z]+(.com.br|.br)',email).group().split()\n",
    "        if verificacao == email.split():\n",
    "            return 'Email aceito'\n",
    "        else:\n",
    "            return 'Email rejeitado'"
   ]
  },
  {
   "cell_type": "markdown",
   "id": "cbd2c410",
   "metadata": {},
   "source": [
    "### Senha"
   ]
  },
  {
   "cell_type": "code",
   "execution_count": 4,
   "id": "15fd38ad",
   "metadata": {},
   "outputs": [],
   "source": [
    "def verificaSenha(senha):\n",
    "    if re.match('(?=.*[A-Z])(?=.*[0-9])[0-9a-zA-Z]{8,}',senha) == None:\n",
    "        return 'Senha rejeitada'\n",
    "    else:\n",
    "        verificacao = re.match('(?=.*[A-Z])(?=.*[0-9])[0-9a-zA-Z]{8,}',senha).group().split()\n",
    "        if verificacao == senha.split():\n",
    "            return 'Senha aceita'\n",
    "        else:\n",
    "            return 'Senha rejeitada'"
   ]
  },
  {
   "cell_type": "markdown",
   "id": "40233250",
   "metadata": {},
   "source": [
    "### CPF"
   ]
  },
  {
   "cell_type": "code",
   "execution_count": 5,
   "id": "7ff5ef6e",
   "metadata": {},
   "outputs": [],
   "source": [
    "def verificaCPF(cpf):\n",
    "    if re.match('[0-9]{3}[.][0-9]{3}[.][0-9]{3}[-][0-9]{2}$',cpf) == None:\n",
    "        return 'CPF rejeitado'\n",
    "    else:\n",
    "        verificacao = re.match('[0-9]{3}[.][0-9]{3}[.][0-9]{3}[-][0-9]{2}$',cpf).group().split()\n",
    "        if verificacao == cpf.split():\n",
    "            return 'CPF aceito'\n",
    "        else:\n",
    "            return 'CPF rejeitado'"
   ]
  },
  {
   "cell_type": "markdown",
   "id": "eea3dea2",
   "metadata": {},
   "source": [
    "### Telefone\n"
   ]
  },
  {
   "cell_type": "code",
   "execution_count": 6,
   "id": "d6a74073",
   "metadata": {},
   "outputs": [],
   "source": [
    "def verificaTelefone(telefone):\n",
    "    if re.match('[(][0-9]{2}[)] 9[0-9]{4}[-][0-9]{4}$',telefone) == None:\n",
    "        return 'Telefone rejeitado'\n",
    "    else:\n",
    "        verificacao = re.match('[(][0-9]{2}[)] 9[0-9]{4}[-][0-9]{4}$',telefone).group().split()\n",
    "        if verificacao == telefone.split():\n",
    "            return 'Telefone aceito'\n",
    "        else:\n",
    "            return 'Telefone rejeitado'"
   ]
  },
  {
   "cell_type": "markdown",
   "id": "40c6aaf1",
   "metadata": {},
   "source": [
    "### Data e Hora"
   ]
  },
  {
   "cell_type": "code",
   "execution_count": 16,
   "id": "b1fbed55",
   "metadata": {},
   "outputs": [
    {
     "data": {
      "text/plain": [
       "'Data e hora aceitas'"
      ]
     },
     "execution_count": 16,
     "metadata": {},
     "output_type": "execute_result"
    }
   ],
   "source": [
    "#re.match('[1-9]{2}[/][0-9]{2}[/][0-9]{4} (?:[01]\\d|2[0-3])(?::[0-5]\\d){1,2}$','99/99/9990 23:59:59').group() #da web\n",
    "#re.match('(00[:]00[:]00|00:00:[0-5][0-9]|00:[0-5][1-9][:][0-5][0-9]|00:[1-5][0-9][:][0-5][0-9]|0[1-9][:][0-5][0-9][:][0-5][0-9]|1[0-9][:][0-5][0-9][:][0-5][0-9]|2[0-3][:][0-5][0-9][:][0-5][0-9])$','00:00:59').group()\n",
    "\n",
    "def verificaDH(dh):\n",
    "    if re.match('[1-9]{2}[/][0-9]{2}[/][0-9]{4} (00[:]00[:]00|00:00:[0-5][0-9]|00:[0-5][1-9][:][0-5][0-9]|00:[1-5][0-9][:][0-5][0-9]|0[1-9][:][0-5][0-9][:][0-5][0-9]|1[0-9][:][0-5][0-9][:][0-5][0-9]|2[0-3][:][0-5][0-9][:][0-5][0-9])$',dh) == None:\n",
    "        return 'Data e hora rejeitadas'\n",
    "    else:\n",
    "        verificacao = re.match('[1-9]{2}[/][0-9]{2}[/][0-9]{4} (00[:]00[:]00|00:00:[0-5][0-9]|00:[0-5][1-9][:][0-5][0-9]|00:[1-5][0-9][:][0-5][0-9]|0[1-9][:][0-5][0-9][:][0-5][0-9]|1[0-9][:][0-5][0-9][:][0-5][0-9]|2[0-3][:][0-5][0-9][:][0-5][0-9])$',dh).group().split()\n",
    "        if verificacao == dh.split():\n",
    "            return 'Data e hora aceitas'\n",
    "        else:\n",
    "            return 'Data e hora rejeitadas'\n",
    "verificaDH('28/04/2022 17:52:16')"
   ]
  },
  {
   "cell_type": "markdown",
   "id": "aa222a39",
   "metadata": {},
   "source": [
    "### Número real com ou sem sinal"
   ]
  },
  {
   "cell_type": "code",
   "execution_count": 56,
   "id": "8c5d696d",
   "metadata": {},
   "outputs": [
    {
     "data": {
      "text/plain": [
       "'Número rejeitado'"
      ]
     },
     "execution_count": 56,
     "metadata": {},
     "output_type": "execute_result"
    }
   ],
   "source": [
    "#re.match('[+-]?[0-9]+([.][0-9]+)*','4.1').group()\n",
    "\n",
    "def verificaNumero(numero):\n",
    "    if re.match('[+-]?[0-9]+([.][0-9]+)*',numero) == None:\n",
    "        return 'Número rejeitado'\n",
    "    else:\n",
    "        verificacao = re.match('[+-]?[0-9]+([.][0-9]+)*',numero).group().split()\n",
    "        if verificacao == numero.split():\n",
    "            return 'Número aceito'\n",
    "        else:\n",
    "            return 'Número rejeitado'\n",
    "verificaNumero('+64,2')"
   ]
  },
  {
   "cell_type": "code",
   "execution_count": null,
   "id": "ba80963e",
   "metadata": {},
   "outputs": [],
   "source": []
  }
 ],
 "metadata": {
  "kernelspec": {
   "display_name": "Python 3 (ipykernel)",
   "language": "python",
   "name": "python3"
  },
  "language_info": {
   "codemirror_mode": {
    "name": "ipython",
    "version": 3
   },
   "file_extension": ".py",
   "mimetype": "text/x-python",
   "name": "python",
   "nbconvert_exporter": "python",
   "pygments_lexer": "ipython3",
   "version": "3.9.7"
  }
 },
 "nbformat": 4,
 "nbformat_minor": 5
}
