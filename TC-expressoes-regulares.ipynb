{
 "cells": [
  {
   "cell_type": "code",
   "execution_count": 2,
   "id": "46a8dede",
   "metadata": {},
   "outputs": [],
   "source": [
    "import re"
   ]
  },
  {
   "cell_type": "markdown",
   "id": "35b655e5",
   "metadata": {},
   "source": [
    "# 1. Máscaras de validação"
   ]
  },
  {
   "cell_type": "markdown",
   "id": "57c4d8d1",
   "metadata": {},
   "source": [
    "### Nome"
   ]
  },
  {
   "cell_type": "code",
   "execution_count": 2,
   "id": "bb2a6889",
   "metadata": {},
   "outputs": [],
   "source": [
    "def verificaNome(nome):\n",
    "    if re.match('[A-Z]+[a-z]+ ([A-Z]+[a-z]+ )?[A-Z]+[a-z]+',nome) == None:\n",
    "        return 'Nome rejeitado'\n",
    "    else:\n",
    "        verificacao = re.match('[A-Z]+[a-z]+ ([A-Z]+[a-z]+ )?[A-Z]+[a-z]+',nome).group().split()\n",
    "        if verificacao == nome.split():\n",
    "            return 'Nome aceito'\n",
    "        else:\n",
    "            return 'Nome rejeitado'"
   ]
  },
  {
   "cell_type": "code",
   "execution_count": 3,
   "id": "539334a9",
   "metadata": {},
   "outputs": [],
   "source": [
    "nomesAceitos = []\n",
    "nomesRejeitados = []"
   ]
  },
  {
   "cell_type": "markdown",
   "id": "5dc446d4",
   "metadata": {},
   "source": [
    "### Email"
   ]
  },
  {
   "cell_type": "code",
   "execution_count": 4,
   "id": "ed086863",
   "metadata": {},
   "outputs": [],
   "source": [
    "def verificaEmail(email):\n",
    "    if re.match('[a-z]+@[a-z]+(.com.br|.br)',email) == None:\n",
    "        return 'Email rejeitado'\n",
    "    else:\n",
    "        verificacao = re.match('[a-z]+@[a-z]+(.com.br|.br)',email).group().split()\n",
    "        if verificacao == email.split():\n",
    "            return 'Email aceito'\n",
    "        else:\n",
    "            return 'Email rejeitado'"
   ]
  },
  {
   "cell_type": "code",
   "execution_count": 5,
   "id": "b371e897",
   "metadata": {},
   "outputs": [],
   "source": [
    "emailsAceitos = []\n",
    "emailsRejeitados = []"
   ]
  },
  {
   "cell_type": "markdown",
   "id": "cbd2c410",
   "metadata": {},
   "source": [
    "### Senha"
   ]
  },
  {
   "cell_type": "code",
   "execution_count": 6,
   "id": "15fd38ad",
   "metadata": {},
   "outputs": [],
   "source": [
    "def verificaSenha(senha):\n",
    "    if re.match('(?=.*[A-Z])(?=.*[0-9])[0-9a-zA-Z]{8,}',senha) == None:\n",
    "        return 'Senha rejeitada'\n",
    "    else:\n",
    "        verificacao = re.match('(?=.*[A-Z])(?=.*[0-9])[0-9a-zA-Z]{8,}',senha).group().split()\n",
    "        if verificacao == senha.split():\n",
    "            return 'Senha aceita'\n",
    "        else:\n",
    "            return 'Senha rejeitada'"
   ]
  },
  {
   "cell_type": "code",
   "execution_count": 7,
   "id": "5a5e445e",
   "metadata": {},
   "outputs": [],
   "source": [
    "senhasAceitos = []\n",
    "senhasRejeitados = []"
   ]
  },
  {
   "cell_type": "markdown",
   "id": "f8c4c5f4",
   "metadata": {},
   "source": [
    "### CPF"
   ]
  },
  {
   "cell_type": "code",
   "execution_count": 8,
   "id": "7ff5ef6e",
   "metadata": {},
   "outputs": [],
   "source": [
    "def verificaCPF(cpf):\n",
    "    if re.match('[0-9]{3}[.][0-9]{3}[.][0-9]{3}[-][0-9]{2}$',cpf) == None:\n",
    "        return 'CPF rejeitado'\n",
    "    else:\n",
    "        verificacao = re.match('[0-9]{3}[.][0-9]{3}[.][0-9]{3}[-][0-9]{2}$',cpf).group().split()\n",
    "        if verificacao == cpf.split():\n",
    "            return 'CPF aceito'\n",
    "        else:\n",
    "            return 'CPF rejeitado'"
   ]
  },
  {
   "cell_type": "code",
   "execution_count": 9,
   "id": "1de40bd3",
   "metadata": {},
   "outputs": [],
   "source": [
    "cpfsAceitos = []\n",
    "cpfsRejeitados = []"
   ]
  },
  {
   "cell_type": "markdown",
   "id": "72cefd4d",
   "metadata": {},
   "source": [
    "### Telefone\n"
   ]
  },
  {
   "cell_type": "code",
   "execution_count": 10,
   "id": "d6a74073",
   "metadata": {},
   "outputs": [],
   "source": [
    "def verificaTelefone(telefone):\n",
    "    if re.match('[(][0-9]{2}[)] 9[0-9]{4}[-][0-9]{4}$',telefone) == None:\n",
    "        return 'Telefone rejeitado'\n",
    "    else:\n",
    "        verificacao = re.match('[(][0-9]{2}[)] 9[0-9]{4}[-][0-9]{4}$',telefone).group().split()\n",
    "        if verificacao == telefone.split():\n",
    "            return 'Telefone aceito'\n",
    "        else:\n",
    "            return 'Telefone rejeitado'"
   ]
  },
  {
   "cell_type": "code",
   "execution_count": 11,
   "id": "f14384f7",
   "metadata": {},
   "outputs": [],
   "source": [
    "telAceitos = []\n",
    "telRejeitados = []"
   ]
  },
  {
   "cell_type": "markdown",
   "id": "ca61625c",
   "metadata": {},
   "source": [
    "### Data e Hora"
   ]
  },
  {
   "cell_type": "code",
   "execution_count": 12,
   "id": "dc315fa8",
   "metadata": {},
   "outputs": [],
   "source": [
    "#re.match('[1-9]{2}[/][0-9]{2}[/][0-9]{4} (?:[01]\\d|2[0-3])(?::[0-5]\\d){1,2}$','99/99/9990 23:59:59').group() #da web\n",
    "#re.match('(00[:]00[:]00|00:00:[0-5][0-9]|00:[0-5][1-9][:][0-5][0-9]|00:[1-5][0-9][:][0-5][0-9]|0[1-9][:][0-5][0-9][:][0-5][0-9]|1[0-9][:][0-5][0-9][:][0-5][0-9]|2[0-3][:][0-5][0-9][:][0-5][0-9])$','00:00:59').group()\n",
    "\n",
    "def verificaDH(dh):\n",
    "    if re.match('[1-9]{2}[/][0-9]{2}[/][0-9]{4} (00[:]00[:]00|00:00:[0-5][0-9]|00:[0-5][1-9][:][0-5][0-9]|00:[1-5][0-9][:][0-5][0-9]|0[1-9][:][0-5][0-9][:][0-5][0-9]|1[0-9][:][0-5][0-9][:][0-5][0-9]|2[0-3][:][0-5][0-9][:][0-5][0-9])$',dh) == None:\n",
    "        return 'Data e hora rejeitadas'\n",
    "    else:\n",
    "        verificacao = re.match('[1-9]{2}[/][0-9]{2}[/][0-9]{4} (00[:]00[:]00|00:00:[0-5][0-9]|00:[0-5][1-9][:][0-5][0-9]|00:[1-5][0-9][:][0-5][0-9]|0[1-9][:][0-5][0-9][:][0-5][0-9]|1[0-9][:][0-5][0-9][:][0-5][0-9]|2[0-3][:][0-5][0-9][:][0-5][0-9])$',dh).group().split()\n",
    "        if verificacao == dh.split():\n",
    "            return 'Data e hora aceitas'\n",
    "        else:\n",
    "            return 'Data e hora rejeitadas'"
   ]
  },
  {
   "cell_type": "code",
   "execution_count": 13,
   "id": "93fb758b",
   "metadata": {},
   "outputs": [],
   "source": [
    "dhAceitos = []\n",
    "dhRejeitados = []"
   ]
  },
  {
   "cell_type": "markdown",
   "id": "d0382219",
   "metadata": {},
   "source": [
    "### Número real com ou sem sinal"
   ]
  },
  {
   "cell_type": "code",
   "execution_count": 14,
   "id": "32e59301",
   "metadata": {},
   "outputs": [],
   "source": [
    "def verificaNumero(numero):\n",
    "    if re.match('[+-]?[0-9]+([.][0-9]+)*',numero) == None:\n",
    "        return 'Número rejeitado'\n",
    "    else:\n",
    "        verificacao = re.match('[+-]?[0-9]+([.][0-9]+)*',numero).group().split()\n",
    "        if verificacao == numero.split():\n",
    "            return 'Número aceito'\n",
    "        else:\n",
    "            return 'Número rejeitado'"
   ]
  },
  {
   "cell_type": "code",
   "execution_count": 15,
   "id": "3f703c12",
   "metadata": {},
   "outputs": [],
   "source": [
    "numerosAceitos = []\n",
    "numerosRejeitados = []"
   ]
  },
  {
   "cell_type": "markdown",
   "id": "79658970",
   "metadata": {},
   "source": [
    "# 2. Arranjos familiares"
   ]
  },
  {
   "cell_type": "markdown",
   "id": "2db826d0",
   "metadata": {},
   "source": [
    "### a) Casais heterossexuais mais velhos que os filhos com pelo menos duas filhas mulheres, ou pelo menos um filho homem, ou ainda pelo menos dois filhos homens e uma filha mulher"
   ]
  },
  {
   "cell_type": "code",
   "execution_count": 16,
   "id": "6a3cab03",
   "metadata": {},
   "outputs": [],
   "source": [
    "# pelo menos duas filhas mulheres (mm[mh]*|[mh]*mm|m[mh]*m)\n",
    "# pelo menos um filho homem (h[mh]*|[mh]*h)\n",
    "# pelo menos dois filhos homens e uma filha mulher:\n",
    "\n",
    "#meninos mais velhos que a menina\n",
    "# h[mh]*hm| \n",
    "# hh[mh]*m| \n",
    "# hhm[mh]*| \n",
    "# [mh]*hhm| \n",
    "\n",
    "#menina mais velha que os meninos\n",
    "# m[mh]*hh| \n",
    "# mh[mh]*h| \n",
    "# mhh[mh]*| \n",
    "# [mh]*mhh| \n",
    "\n",
    "#menina entre os meninos\n",
    "# h[mh]*mh| \n",
    "# hm[mh]*h| \n",
    "# hmh[mh]*| \n",
    "# [mh]*hmh| \n",
    "\n",
    "#re.match('(HM|MH)((mm[mh]*|[mh]*mm|m[mh]*m)|(h[mh]*|[mh]*h)|(h[mh]*hm|hh[mh]*m|hhm[mh]*|[mh]*hhm|m[mh]*hh|mh[mh]*h|mhh[mh]*|[mh]*mhh|h[mh]*mh|hm[mh]*h|hmh[mh]*|[mh]*hmh))$','HMmhhmhm').group()\n",
    "\n",
    "def a_2(cadeia):\n",
    "    if re.match('(HM|MH)((mm[mh]*|[mh]*mm|m[mh]*m)|(h[mh]*|[mh]*h)|(h[mh]*hm|hh[mh]*m|hhm[mh]*|[mh]*hhm|m[mh]*hh|mh[mh]*h|mhh[mh]*|[mh]*mhh|h[mh]*mh|hm[mh]*h|hmh[mh]*|[mh]*hmh))$',cadeia) == None:\n",
    "        return 'Cadeia rejeitada'\n",
    "    else:\n",
    "        verificacao = re.match('(HM|MH)((mm[mh]*|[mh]*mm|m[mh]*m)|(h[mh]*|[mh]*h)|(h[mh]*hm|hh[mh]*m|hhm[mh]*|[mh]*hhm|m[mh]*hh|mh[mh]*h|mhh[mh]*|[mh]*mhh|h[mh]*mh|hm[mh]*h|hmh[mh]*|[mh]*hmh))$',cadeia).group().split()\n",
    "        if verificacao == cadeia.split():\n",
    "            return 'Cadeia aceita'\n",
    "        else:\n",
    "            return 'Cadeia rejeitada'"
   ]
  },
  {
   "cell_type": "code",
   "execution_count": 17,
   "id": "c48dcc40",
   "metadata": {},
   "outputs": [],
   "source": [
    "aAceitos = []\n",
    "aRejeitados = []"
   ]
  },
  {
   "cell_type": "markdown",
   "id": "59c82723",
   "metadata": {},
   "source": [
    "### b) Casais heterossexuais mais velhos que os filhos e com uma quantidade ímpar de filhas mulheres"
   ]
  },
  {
   "cell_type": "code",
   "execution_count": 150,
   "id": "8afbdade",
   "metadata": {},
   "outputs": [],
   "source": [
    "#re.match('(HM|MH)(h*mh*|(h*mh*(h*mh*m)+)h*)$','hhmhmm').group()\n",
    "def a_2(cadeia):\n",
    "    if re.match('(HM|MH)(h*mh*|(h*mh*(h*mh*m)+)h*)$',cadeia) == None:\n",
    "        return 'Cadeia rejeitada'\n",
    "    else:\n",
    "        verificacao = re.match('(HM|MH)(h*mh*|(h*mh*(h*mh*m)+)h*)$',cadeia).group().split()\n",
    "        if verificacao == cadeia.split():\n",
    "            return 'Cadeia aceita'\n",
    "        else:\n",
    "            return 'Cadeia rejeitada'"
   ]
  },
  {
   "cell_type": "code",
   "execution_count": 149,
   "id": "f2a00716",
   "metadata": {},
   "outputs": [],
   "source": [
    "bAceitos = []\n",
    "bRejeitados = []"
   ]
  },
  {
   "cell_type": "markdown",
   "id": "78245ee0",
   "metadata": {},
   "source": [
    "### c) Casais heterossexuais mais velhos que os filhos, com a filha mais velha mulher e o filho mais novo homem"
   ]
  },
  {
   "cell_type": "code",
   "execution_count": 20,
   "id": "627c3947",
   "metadata": {},
   "outputs": [],
   "source": [
    "#re.match('(HM|MH)(m[hm]*h)$','MHmhhmh').group()\n",
    "\n",
    "def c_2(cadeia):\n",
    "    if re.match('(HM|MH)(m[hm]*h)$',cadeia) == None:\n",
    "        return 'Cadeia rejeitada'\n",
    "    else:\n",
    "        verificacao = re.match('(HM|MH)(m[hm]*h)$',cadeia).group().split()\n",
    "        if verificacao == cadeia.split():\n",
    "            return 'Cadeia aceita'\n",
    "        else:\n",
    "            return 'Cadeia rejeitada'"
   ]
  },
  {
   "cell_type": "code",
   "execution_count": 21,
   "id": "71898433",
   "metadata": {},
   "outputs": [],
   "source": [
    "cAceitos = []\n",
    "cRejeitados = []"
   ]
  },
  {
   "cell_type": "markdown",
   "id": "e4712e00",
   "metadata": {},
   "source": [
    "### d)Casais homossexuais mais velhos que os filhos, com pelo menos seis filhos, em que os dois primeiros filhos formam um casal e os últimos também"
   ]
  },
  {
   "cell_type": "code",
   "execution_count": 22,
   "id": "0cd94cb7",
   "metadata": {},
   "outputs": [],
   "source": [
    "# mh[hm]{6,}mh|\n",
    "# hm[hm]{6,}hm|\n",
    "# mh[hm]{6,}hm|\n",
    "# hm[hm]{6,}mh|\n",
    "\n",
    "#re.match('(HH|MM)(mh[hm]{2,}mh|hm[hm]{2,}hm|mh[hm]{2,}hm|hm[hm]{2,}mh)$','HHmhhhmh').group()\n",
    "\n",
    "def d_2(cadeia):\n",
    "    if re.match('(HH|MM)(mh[hm]{2,}mh|hm[hm]{2,}hm|mh[hm]{2,}hm|hm[hm]{2,}mh)$',cadeia) == None:\n",
    "        return 'Cadeia rejeitada'\n",
    "    else:\n",
    "        verificacao = re.match('(HH|MM)(mh[hm]{2,}mh|hm[hm]{2,}hm|mh[hm]{2,}hm|hm[hm]{2,}mh)$',cadeia).group().split()\n",
    "        if verificacao == cadeia.split():\n",
    "            return 'Cadeia aceita'\n",
    "        else:\n",
    "            return 'Cadeia rejeitada'"
   ]
  },
  {
   "cell_type": "code",
   "execution_count": 23,
   "id": "d81f8c47",
   "metadata": {},
   "outputs": [],
   "source": [
    "dAceitos = []\n",
    "dRejeitados = []"
   ]
  },
  {
   "cell_type": "markdown",
   "id": "932d5139",
   "metadata": {},
   "source": [
    "### e) Casais homossexuais mais velhos que os filhos, em que o sexo dos filhos é alternado conforme a ordem de nascimento"
   ]
  },
  {
   "cell_type": "code",
   "execution_count": 24,
   "id": "049942de",
   "metadata": {},
   "outputs": [],
   "source": [
    "#re.match('(HH|MM)((h(?!h))|m(?!m))+$','HHhmhmhmmhmhm').group()\n",
    "\n",
    "def e_2(cadeia):\n",
    "    if re.match('(HH|MM)((h(?!h))|m(?!m))+$',cadeia) == None:\n",
    "        return 'Cadeia rejeitada'\n",
    "    else:\n",
    "        verificacao = re.match('(HH|MM)((h(?!h))|m(?!m))+$',cadeia).group().split()\n",
    "        if verificacao == cadeia.split():\n",
    "            return 'Cadeia aceita'\n",
    "        else:\n",
    "            return 'Cadeia rejeitada'"
   ]
  },
  {
   "cell_type": "code",
   "execution_count": 25,
   "id": "2458a770",
   "metadata": {},
   "outputs": [],
   "source": [
    "eAceitos = []\n",
    "eRejeitados = []"
   ]
  },
  {
   "cell_type": "markdown",
   "id": "de31a8f4",
   "metadata": {},
   "source": [
    "### f) Casais homossexuais mais velhos que os filhos, com qualquer quantidade de filhos homens e mulheres, mas que não tiveram dois filhos homens consecutivos"
   ]
  },
  {
   "cell_type": "code",
   "execution_count": 26,
   "id": "f430156f",
   "metadata": {},
   "outputs": [],
   "source": [
    "#re.match('(HH|MM)((h(?!h))|m)*$','HHmhmmmmhm').group()\n",
    "\n",
    "def f_2(cadeia):\n",
    "    if re.match('(HH|MM)((h(?!h))|m)*$',cadeia) == None:\n",
    "        return 'Cadeia rejeitada'\n",
    "    else:\n",
    "        verificacao = re.match('(HH|MM)((h(?!h))|m)*$',cadeia).group().split()\n",
    "        if verificacao == cadeia.split():\n",
    "            return 'Cadeia aceita'\n",
    "        else:\n",
    "            return 'Cadeia rejeitada'"
   ]
  },
  {
   "cell_type": "code",
   "execution_count": 27,
   "id": "c29b5f6c",
   "metadata": {},
   "outputs": [],
   "source": [
    "fAceitos = []\n",
    "fRejeitados = []"
   ]
  },
  {
   "cell_type": "markdown",
   "id": "b7fe1d85",
   "metadata": {},
   "source": [
    "### g) Arranjo de no mínimo x∈ℕ e no máximo y∈ℕ , com x>0 , y>0 , e x≤y , de adultos (Hs ou Ms) mais velhos que os filhos, com qualquer quantidade de filhos homens e mulheres, mas que os três filhos mais novos não foram homens"
   ]
  },
  {
   "cell_type": "code",
   "execution_count": 39,
   "id": "babc0631",
   "metadata": {},
   "outputs": [],
   "source": [
    "#re.match('(H|M){3,5}(((h|m)*m(h){,2})|(h){,2})$','HHMhhmhh').group()\n",
    "\n",
    "def g_2(cadeia):\n",
    "    if re.match('(H|M){3,5}((h|m)*m{3,}|m*)$',cadeia) == None:\n",
    "        return 'Cadeia rejeitada'\n",
    "    else:\n",
    "        verificacao = re.match('(H|M){3,5}((h|m)*m{3,}|m*)$',cadeia).group().split()\n",
    "        if verificacao == cadeia.split():\n",
    "            return 'Cadeia aceita'\n",
    "        else:\n",
    "            return 'Cadeia rejeitada'"
   ]
  },
  {
   "cell_type": "code",
   "execution_count": 29,
   "id": "254b7f56",
   "metadata": {},
   "outputs": [],
   "source": [
    "gAceitos = []\n",
    "gRejeitados = []"
   ]
  },
  {
   "cell_type": "code",
   "execution_count": 41,
   "id": "2d4c9daf",
   "metadata": {},
   "outputs": [
    {
     "data": {
      "text/plain": [
       "'Cadeia aceita'"
      ]
     },
     "execution_count": 41,
     "metadata": {},
     "output_type": "execute_result"
    }
   ],
   "source": [
    "g_2('HHMmmmhmmm')"
   ]
  }
 ],
 "metadata": {
  "kernelspec": {
   "display_name": "Python 3 (ipykernel)",
   "language": "python",
   "name": "python3"
  },
  "language_info": {
   "codemirror_mode": {
    "name": "ipython",
    "version": 3
   },
   "file_extension": ".py",
   "mimetype": "text/x-python",
   "name": "python",
   "nbconvert_exporter": "python",
   "pygments_lexer": "ipython3",
   "version": "3.9.7"
  }
 },
 "nbformat": 4,
 "nbformat_minor": 5
}
