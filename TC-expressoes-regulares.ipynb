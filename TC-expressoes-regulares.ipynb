{
 "cells": [
  {
   "cell_type": "markdown",
   "id": "4a6e1f55",
   "metadata": {},
   "source": [
    "# Teoria da Computação - Trabalho sobre Expressão Regular"
   ]
  },
  {
   "cell_type": "markdown",
   "id": "be43965e",
   "metadata": {},
   "source": [
    "### Índice\n",
    "1. [Máscaras de validação](#1.-Máscaras-de-validação)<br>\n",
    "    1.1. [Nome](#Nome)<br>\n",
    "    1.2. [Email](#Email)<br>\n",
    "    1.3. [Senha](#Senha)<br>\n",
    "    1.4. [CPF](#CPF)<br>\n",
    "    1.5. [Telefone](#Telefone)<br>\n",
    "    1.6. [Data e Hora](#Data-e-Hora)<br>\n",
    "    1.7. [Número real com ou sem sinal](#Número-real-com-ou-sem-sinal)<br>\n",
    "    \n",
    "2. [Arranjos familiares](#2.-Arranjos-familiares)<br>"
   ]
  },
  {
   "cell_type": "code",
   "execution_count": 1,
   "id": "46a8dede",
   "metadata": {},
   "outputs": [],
   "source": [
    "import re"
   ]
  },
  {
   "cell_type": "markdown",
   "id": "35b655e5",
   "metadata": {},
   "source": [
    "# 1. Máscaras de validação"
   ]
  },
  {
   "cell_type": "markdown",
   "id": "57c4d8d1",
   "metadata": {},
   "source": [
    "### Nome"
   ]
  },
  {
   "cell_type": "code",
   "execution_count": 2,
   "id": "bb2a6889",
   "metadata": {},
   "outputs": [],
   "source": [
    "def verificaNome(nome):\n",
    "    if re.match('[A-Z]+[a-z]+ ([A-Z]+[a-z]+ )?[A-Z]+[a-z]+',nome) == None:\n",
    "        return 'Nome rejeitado'\n",
    "    else:\n",
    "        verificacao = re.match('[A-Z]+[a-z]+ ([A-Z]+[a-z]+ )?[A-Z]+[a-z]+',nome).group().split()\n",
    "        if verificacao == nome.split():\n",
    "            return 'Nome aceito'\n",
    "        else:\n",
    "            return 'Nome rejeitado'"
   ]
  },
  {
   "cell_type": "code",
   "execution_count": 3,
   "id": "539334a9",
   "metadata": {},
   "outputs": [
    {
     "name": "stdout",
     "output_type": "stream",
     "text": [
      "Deverão ser aceitos:\n",
      "Nome aceito\n",
      "Nome aceito\n",
      "Nome aceito\n",
      "Nome aceito\n",
      "Nome aceito\n",
      "Nome aceito\n",
      "\n",
      "Deverão ser rejeitados:\n",
      "Nome rejeitado\n",
      "Nome rejeitado\n",
      "Nome rejeitado\n",
      "Nome rejeitado\n",
      "Nome rejeitado\n",
      "Nome rejeitado\n",
      "Nome rejeitado\n",
      "Nome rejeitado\n",
      "Nome rejeitado\n",
      "Nome rejeitado\n",
      "Nome rejeitado\n"
     ]
    }
   ],
   "source": [
    "nomesAceitos = ['Ada Lovelace',\n",
    "                'Alan Turing',\n",
    "                'Stephen Cole Kleene',\n",
    "                'Juliana Auzier Seixas',\n",
    "                'Ju Auzier',\n",
    "                'Ju Se']\n",
    "\n",
    "nomesRejeitados = ['1Alan',\n",
    "                   'Alan',\n",
    "                   'A1an',\n",
    "                   'A1an Turing',\n",
    "                   'Alan turing',\n",
    "                   'Juliana A Seixas',\n",
    "                   'juliana Auzier Seixas',\n",
    "                   'Juliana S',\n",
    "                   'Juliana Auzier Seixas Feio',\n",
    "                   '',\n",
    "                   'Ju ASF']\n",
    "\n",
    "print('Deverão ser aceitos:')\n",
    "for i in nomesAceitos:\n",
    "    print(verificaNome(i))\n",
    "\n",
    "print('\\nDeverão ser rejeitados:')   \n",
    "\n",
    "for i in nomesRejeitados:\n",
    "    print(verificaNome(i))"
   ]
  },
  {
   "cell_type": "markdown",
   "id": "5dc446d4",
   "metadata": {},
   "source": [
    "### Email"
   ]
  },
  {
   "cell_type": "code",
   "execution_count": 4,
   "id": "ed086863",
   "metadata": {},
   "outputs": [],
   "source": [
    "def verificaEmail(email):\n",
    "    if re.match('[a-z]+@[a-z]+(.com.br|.br)',email) == None:\n",
    "        return 'Email rejeitado'\n",
    "    else:\n",
    "        verificacao = re.match('[a-z]+@[a-z]+(.com.br|.br)',email).group().split()\n",
    "        if verificacao == email.split():\n",
    "            return 'Email aceito'\n",
    "        else:\n",
    "            return 'Email rejeitado'"
   ]
  },
  {
   "cell_type": "code",
   "execution_count": 5,
   "id": "b371e897",
   "metadata": {},
   "outputs": [
    {
     "name": "stdout",
     "output_type": "stream",
     "text": [
      "Deverão ser aceitos:\n",
      "Email aceito\n",
      "Email aceito\n",
      "Email aceito\n",
      "Email aceito\n",
      "Email aceito\n",
      "\n",
      "Deverão ser rejeitados:\n",
      "Email rejeitado\n",
      "Email rejeitado\n",
      "Email rejeitado\n",
      "Email rejeitado\n",
      "Email rejeitado\n",
      "Email rejeitado\n",
      "Email rejeitado\n",
      "Email rejeitado\n",
      "Email rejeitado\n",
      "Email rejeitado\n",
      "Email rejeitado\n",
      "Email rejeitado\n",
      "Email rejeitado\n",
      "Email rejeitado\n"
     ]
    }
   ],
   "source": [
    "emailsAceitos = [ 'a@a.br',\n",
    "                 'divulga@ufpa.br',\n",
    "                 'a@a.com.br',\n",
    "                'email@email.br',\n",
    "                'ufpa@gmail.br']\n",
    "\n",
    "emailsRejeitados = ['@',\n",
    "                    'a@.br',\n",
    "                    '@a.br',\n",
    "                    'T@teste.br',\n",
    "                    'a@A.com.br',\n",
    "                    '',\n",
    "                   '@algo.com.br',\n",
    "                   'email.ufpa@ufpa.br',\n",
    "                   '1ema2il@ufpa.com.br',\n",
    "                   'ufpa@gmail.com',\n",
    "                   'ufpa@.com.br',\n",
    "                   'email@email..br',\n",
    "                   'email@email..com.br',\n",
    "                   'email@ema.il.com.br'\n",
    "                   'ema.il@email.com.br']\n",
    "\n",
    "print('Deverão ser aceitos:')\n",
    "for i in emailsAceitos:\n",
    "    print(verificaEmail(i))\n",
    "\n",
    "print('\\nDeverão ser rejeitados:')   \n",
    "\n",
    "for i in emailsRejeitados:\n",
    "    print(verificaEmail(i))"
   ]
  },
  {
   "cell_type": "markdown",
   "id": "cbd2c410",
   "metadata": {},
   "source": [
    "### Senha"
   ]
  },
  {
   "cell_type": "code",
   "execution_count": 6,
   "id": "15fd38ad",
   "metadata": {},
   "outputs": [],
   "source": [
    "def verificaSenha(senha):\n",
    "    if re.match('(?=.*[A-Z])(?=.*[0-9])[0-9a-zA-Z]{8}',senha) == None:\n",
    "        return 'Senha rejeitada'\n",
    "    else:\n",
    "        verificacao = re.match('(?=.*[A-Z])(?=.*[0-9])[0-9a-zA-Z]{8}',senha).group().split()\n",
    "        if verificacao == senha.split():\n",
    "            return 'Senha aceita'\n",
    "        else:\n",
    "            return 'Senha rejeitada'"
   ]
  },
  {
   "cell_type": "code",
   "execution_count": 7,
   "id": "5a5e445e",
   "metadata": {},
   "outputs": [
    {
     "name": "stdout",
     "output_type": "stream",
     "text": [
      "Deverão ser aceitos:\n",
      "Senha aceita\n",
      "Senha aceita\n",
      "Senha aceita\n",
      "Senha aceita\n",
      "Senha aceita\n",
      "Senha aceita\n",
      "Senha aceita\n",
      "Senha aceita\n",
      "\n",
      "Deverão ser rejeitados:\n",
      "Senha rejeitada\n",
      "Senha rejeitada\n",
      "Senha rejeitada\n",
      "Senha rejeitada\n",
      "Senha rejeitada\n",
      "Senha rejeitada\n",
      "Senha rejeitada\n",
      "Senha rejeitada\n",
      "Senha rejeitada\n"
     ]
    }
   ],
   "source": [
    "senhasAceitas = ['518R2r5e',\n",
    "                 'F123456A',\n",
    "                 '1234567T',\n",
    "                 'ropsSoq0',\n",
    "                 'abcdfgX6',\n",
    "                 '938S570z',\n",
    "                 'Algo1234',\n",
    "                'Aceita00']\n",
    "\n",
    "senhasRejeitadas = ['',\n",
    "                    'F1234567A',\n",
    "                    'abcdefgH',\n",
    "                    '1234567HI',\n",
    "                    '000000',\n",
    "                    '12345678',\n",
    "                    'dkvb@12Q',\n",
    "                    'Algo123MaisAlgo123',\n",
    "                   'senhanaoaceita']\n",
    "\n",
    "print('Deverão ser aceitos:')\n",
    "for i in senhasAceitas:\n",
    "    print(verificaSenha(i))\n",
    "\n",
    "print('\\nDeverão ser rejeitados:')   \n",
    "\n",
    "for i in senhasRejeitadas:\n",
    "    print(verificaSenha(i))"
   ]
  },
  {
   "cell_type": "markdown",
   "id": "f8c4c5f4",
   "metadata": {},
   "source": [
    "### CPF"
   ]
  },
  {
   "cell_type": "code",
   "execution_count": 8,
   "id": "7ff5ef6e",
   "metadata": {},
   "outputs": [],
   "source": [
    "def verificaCPF(cpf):\n",
    "    if re.match('[0-9]{3}[.][0-9]{3}[.][0-9]{3}[-][0-9]{2}$',cpf) == None:\n",
    "        return 'CPF rejeitado'\n",
    "    else:\n",
    "        verificacao = re.match('[0-9]{3}[.][0-9]{3}[.][0-9]{3}[-][0-9]{2}$',cpf).group().split()\n",
    "        if verificacao == cpf.split():\n",
    "            return 'CPF aceito'\n",
    "        else:\n",
    "            return 'CPF rejeitado'"
   ]
  },
  {
   "cell_type": "code",
   "execution_count": 9,
   "id": "1de40bd3",
   "metadata": {},
   "outputs": [
    {
     "name": "stdout",
     "output_type": "stream",
     "text": [
      "Deverão ser aceitos:\n",
      "CPF aceito\n",
      "CPF aceito\n",
      "CPF aceito\n",
      "\n",
      "Deverão ser rejeitados:\n",
      "CPF rejeitado\n",
      "CPF rejeitado\n",
      "CPF rejeitado\n",
      "CPF rejeitado\n",
      "CPF rejeitado\n",
      "CPF rejeitado\n",
      "CPF rejeitado\n",
      "CPF rejeitado\n",
      "CPF rejeitado\n",
      "CPF rejeitado\n",
      "CPF rejeitado\n",
      "CPF rejeitado\n",
      "CPF rejeitado\n"
     ]
    }
   ],
   "source": [
    "cpfsAceitos = ['123.456.789-09',\n",
    "               '000.000.000-00',\n",
    "               '987.987.987-98']\n",
    "\n",
    "cpfsRejeitados = ['123.456.789-009',\n",
    "                  '000.000.000.00',\n",
    "                  '98798798798',\n",
    "                  '123-456-789-09',\n",
    "                  '000-000.000-00',\n",
    "                  '987.987-987.34',\n",
    "                  '123123123-12',\n",
    "                  '3213.21.321-00',\n",
    "                  '',\n",
    "                  '123.',\n",
    "                  '123.123',\n",
    "                  '212.323-64',\n",
    "                  '000.000.000-']\n",
    "\n",
    "print('Deverão ser aceitos:')\n",
    "for i in cpfsAceitos:\n",
    "    print(verificaCPF(i))\n",
    "\n",
    "print('\\nDeverão ser rejeitados:')   \n",
    "\n",
    "for i in cpfsRejeitados:\n",
    "    print(verificaCPF(i))"
   ]
  },
  {
   "cell_type": "markdown",
   "id": "72cefd4d",
   "metadata": {},
   "source": [
    "### Telefone\n"
   ]
  },
  {
   "cell_type": "code",
   "execution_count": 10,
   "id": "d6a74073",
   "metadata": {},
   "outputs": [],
   "source": [
    "# Formato (xx) 9xxxx-xxxx\n",
    "\n",
    "def verificaTelefone(telefone):\n",
    "    if re.match('[(][0-9]{2}[)] 9[0-9]{4}[-][0-9]{4}$',telefone) == None:\n",
    "        return 'Telefone rejeitado'\n",
    "    else:\n",
    "        verificacao = re.match('[(][0-9]{2}[)] 9[0-9]{4}[-][0-9]{4}$',telefone).group().split()\n",
    "        if verificacao == telefone.split():\n",
    "            return 'Telefone aceito'\n",
    "        else:\n",
    "            return 'Telefone rejeitado'"
   ]
  },
  {
   "cell_type": "code",
   "execution_count": 11,
   "id": "f14384f7",
   "metadata": {},
   "outputs": [
    {
     "name": "stdout",
     "output_type": "stream",
     "text": [
      "Deverão ser aceitos:\n",
      "Telefone aceito\n",
      "Telefone aceito\n",
      "Telefone aceito\n",
      "\n",
      "Deverão ser rejeitados:\n",
      "Telefone rejeitado\n",
      "Telefone rejeitado\n",
      "Telefone rejeitado\n",
      "Telefone rejeitado\n",
      "Telefone rejeitado\n",
      "Telefone rejeitado\n",
      "Telefone rejeitado\n",
      "Telefone rejeitado\n",
      "Telefone rejeitado\n"
     ]
    }
   ],
   "source": [
    "telAceitos = ['(91) 99999-9999',\n",
    "              '(00) 92346-7890',\n",
    "              '(56) 91234-5678']\n",
    "\n",
    "telRejeitados = ['(91)99999-9999',\n",
    "                 '(00) 2346-7890',\n",
    "                 '(56) 01234-5678',\n",
    "                 '',\n",
    "                 '(0) 91234-5678',\n",
    "                 '(91) 999999999',\n",
    "                 '91 999999999',\n",
    "                 '(00)9999-99999',\n",
    "                '99999999999']\n",
    "\n",
    "print('Deverão ser aceitos:')\n",
    "for i in telAceitos:\n",
    "    print(verificaTelefone(i))\n",
    "\n",
    "print('\\nDeverão ser rejeitados:')   \n",
    "\n",
    "for i in telRejeitados:\n",
    "    print(verificaTelefone(i))"
   ]
  },
  {
   "cell_type": "markdown",
   "id": "ca61625c",
   "metadata": {},
   "source": [
    "### Data e Hora"
   ]
  },
  {
   "cell_type": "code",
   "execution_count": 12,
   "id": "dc315fa8",
   "metadata": {},
   "outputs": [],
   "source": [
    "def verificaDH(dh):\n",
    "    if re.match('[0-9]{2}[/][0-9]{2}[/][0-9]{4} (00[:]00[:]00|00:00:[0-5][0-9]|00:[0-5][1-9][:][0-5][0-9]|00:[1-5][0-9][:][0-5][0-9]|0[1-9][:][0-5][0-9][:][0-5][0-9]|1[0-9][:][0-5][0-9][:][0-5][0-9]|2[0-3][:][0-5][0-9][:][0-5][0-9])$',dh) == None:\n",
    "        return 'Data e hora rejeitadas'\n",
    "    else:\n",
    "        verificacao = re.match('[0-9]{2}[/][0-9]{2}[/][0-9]{4} (00[:]00[:]00|00:00:[0-5][0-9]|00:[0-5][1-9][:][0-5][0-9]|00:[1-5][0-9][:][0-5][0-9]|0[1-9][:][0-5][0-9][:][0-5][0-9]|1[0-9][:][0-5][0-9][:][0-5][0-9]|2[0-3][:][0-5][0-9][:][0-5][0-9])$',dh).group().split()\n",
    "        if verificacao == dh.split():\n",
    "            return 'Data e hora aceitas'\n",
    "        else:\n",
    "            return 'Data e hora rejeitadas'"
   ]
  },
  {
   "cell_type": "code",
   "execution_count": 13,
   "id": "93fb758b",
   "metadata": {},
   "outputs": [
    {
     "name": "stdout",
     "output_type": "stream",
     "text": [
      "Deverão ser aceitos:\n",
      "Data e hora aceitas\n",
      "Data e hora aceitas\n",
      "Data e hora aceitas\n",
      "Data e hora aceitas\n",
      "Data e hora aceitas\n",
      "\n",
      "Deverão ser rejeitados:\n",
      "Data e hora rejeitadas\n",
      "Data e hora rejeitadas\n",
      "Data e hora rejeitadas\n",
      "Data e hora rejeitadas\n",
      "Data e hora rejeitadas\n",
      "Data e hora rejeitadas\n"
     ]
    }
   ],
   "source": [
    "dhAceitos = ['31/08/2019 20:14:55',\n",
    "             '99/99/9999 23:59:59',\n",
    "             '01/05/2022 19:03:57',\n",
    "             '01/05/2022 00:00:00',\n",
    "             '28/04/2017 01:15:00']\n",
    "\n",
    "dhRejeitados = ['99/99/9999 3:9:9',\n",
    "                '9/9/99 99:99:99', \n",
    "                '99/99/999903:09:09',\n",
    "                '01/05/2022 19:03',\n",
    "                '28/04 01:15:00',\n",
    "               '']\n",
    "\n",
    "print('Deverão ser aceitos:')\n",
    "for i in dhAceitos:\n",
    "    print(verificaDH(i))\n",
    "\n",
    "print('\\nDeverão ser rejeitados:')   \n",
    "\n",
    "for i in dhRejeitados:\n",
    "    print(verificaDH(i))"
   ]
  },
  {
   "cell_type": "markdown",
   "id": "d0382219",
   "metadata": {},
   "source": [
    "### Número real com ou sem sinal"
   ]
  },
  {
   "cell_type": "code",
   "execution_count": 14,
   "id": "32e59301",
   "metadata": {},
   "outputs": [],
   "source": [
    "def verificaNumero(numero):\n",
    "    if re.match('[+-]?[0-9]+([.][0-9]+)*',numero) == None:\n",
    "        return 'Número rejeitado'\n",
    "    else:\n",
    "        verificacao = re.match('[+-]?[0-9]+([.][0-9]+)*',numero).group().split()\n",
    "        if verificacao == numero.split():\n",
    "            return 'Número aceito'\n",
    "        else:\n",
    "            return 'Número rejeitado'"
   ]
  },
  {
   "cell_type": "code",
   "execution_count": 15,
   "id": "3f703c12",
   "metadata": {},
   "outputs": [
    {
     "name": "stdout",
     "output_type": "stream",
     "text": [
      "Deverão ser aceitos:\n",
      "Número aceito\n",
      "Número aceito\n",
      "Número aceito\n",
      "Número aceito\n",
      "Número aceito\n",
      "Número aceito\n",
      "Número aceito\n",
      "\n",
      "Deverão ser rejeitados:\n",
      "Número rejeitado\n",
      "Número rejeitado\n",
      "Número rejeitado\n",
      "Número rejeitado\n",
      "Número rejeitado\n",
      "Número rejeitado\n"
     ]
    }
   ],
   "source": [
    "numerosAceitos = ['-25.467',\n",
    "                  '1',\n",
    "                  '-1',\n",
    "                  '+1',\n",
    "                  '64.2',\n",
    "                  '6151.644',\n",
    "                  '-6151.0']\n",
    "\n",
    "numerosRejeitados = ['-6151.',\n",
    "                     '',\n",
    "                     '1.',\n",
    "                     '.2',\n",
    "                     '+64,2',\n",
    "                     '-.3560']\n",
    "\n",
    "print('Deverão ser aceitos:')\n",
    "for i in numerosAceitos:\n",
    "    print(verificaNumero(i))\n",
    "\n",
    "print('\\nDeverão ser rejeitados:')   \n",
    "\n",
    "for i in numerosRejeitados:\n",
    "    print(verificaNumero(i))"
   ]
  },
  {
   "cell_type": "markdown",
   "id": "8efc33f5",
   "metadata": {},
   "source": [
    "### [Voltar ao topo](#Índice)"
   ]
  },
  {
   "cell_type": "markdown",
   "id": "79658970",
   "metadata": {},
   "source": [
    "# 2. Arranjos familiares"
   ]
  },
  {
   "cell_type": "markdown",
   "id": "2db826d0",
   "metadata": {},
   "source": [
    "### a) Casais heterossexuais mais velhos que os filhos com pelo menos duas filhas mulheres, ou pelo menos um filho homem, ou ainda pelo menos dois filhos homens e uma filha mulher"
   ]
  },
  {
   "cell_type": "code",
   "execution_count": 16,
   "id": "6a3cab03",
   "metadata": {},
   "outputs": [],
   "source": [
    "# pelo menos duas filhas mulheres (mm[mh]*|[mh]*mm|m[mh]*m)\n",
    "# pelo menos um filho homem (h[mh]*|[mh]*h)\n",
    "# pelo menos dois filhos homens e uma filha mulher:\n",
    "\n",
    "#meninos mais velhos que a menina\n",
    "# h[mh]*hm| \n",
    "# hh[mh]*m| \n",
    "# hhm[mh]*| \n",
    "# [mh]*hhm| \n",
    "\n",
    "#menina mais velha que os meninos\n",
    "# m[mh]*hh| \n",
    "# mh[mh]*h| \n",
    "# mhh[mh]*| \n",
    "# [mh]*mhh| \n",
    "\n",
    "#menina entre os meninos\n",
    "# h[mh]*mh| \n",
    "# hm[mh]*h| \n",
    "# hmh[mh]*| \n",
    "# [mh]*hmh| \n",
    "\n",
    "#re.match('(HM|MH)((mm[mh]*|[mh]*mm|m[mh]*m)|(h[mh]*|[mh]*h)|(h[mh]*hm|hh[mh]*m|hhm[mh]*|[mh]*hhm|m[mh]*hh|mh[mh]*h|mhh[mh]*|[mh]*mhh|h[mh]*mh|hm[mh]*h|hmh[mh]*|[mh]*hmh))$','HMmhhmhm').group()\n",
    "\n",
    "def a_2(cadeia):\n",
    "    if re.match('(HM|MH)((mm[mh]*|[mh]*mm|m[mh]*m)|(h[mh]*|[mh]*h)|(h[mh]*hm|hh[mh]*m|hhm[mh]*|[mh]*hhm|m[mh]*hh|mh[mh]*h|mhh[mh]*|[mh]*mhh|h[mh]*mh|hm[mh]*h|hmh[mh]*|[mh]*hmh))$',cadeia) == None:\n",
    "        return 'Cadeia rejeitada'\n",
    "    else:\n",
    "        verificacao = re.match('(HM|MH)((mm[mh]*|[mh]*mm|m[mh]*m)|(h[mh]*|[mh]*h)|(h[mh]*hm|hh[mh]*m|hhm[mh]*|[mh]*hhm|m[mh]*hh|mh[mh]*h|mhh[mh]*|[mh]*mhh|h[mh]*mh|hm[mh]*h|hmh[mh]*|[mh]*hmh))$',cadeia).group().split()\n",
    "        if verificacao == cadeia.split():\n",
    "            return 'Cadeia aceita'\n",
    "        else:\n",
    "            return 'Cadeia rejeitada'"
   ]
  },
  {
   "cell_type": "code",
   "execution_count": 17,
   "id": "c48dcc40",
   "metadata": {},
   "outputs": [
    {
     "name": "stdout",
     "output_type": "stream",
     "text": [
      "Deverão ser aceitos:\n",
      "\n",
      "Deverão ser rejeitados:\n"
     ]
    }
   ],
   "source": [
    "aAceitos = []\n",
    "\n",
    "aRejeitados = []\n",
    "\n",
    "print('Deverão ser aceitos:')\n",
    "for i in aAceitos:\n",
    "    print(a_2(i))\n",
    "\n",
    "print('\\nDeverão ser rejeitados:')   \n",
    "\n",
    "for i in aRejeitados:\n",
    "    print(a_2(i))"
   ]
  },
  {
   "cell_type": "markdown",
   "id": "59c82723",
   "metadata": {},
   "source": [
    "### b) Casais heterossexuais mais velhos que os filhos e com uma quantidade ímpar de filhas mulheres"
   ]
  },
  {
   "cell_type": "code",
   "execution_count": 35,
   "id": "8afbdade",
   "metadata": {},
   "outputs": [],
   "source": [
    "def a_2(cadeia):\n",
    "    if re.match('(HM|MH)(h*mh*|(h*mh*(h*mh*m)+)h*)$',cadeia) == None:\n",
    "        return 'Cadeia rejeitada'\n",
    "    else:\n",
    "        verificacao = re.match('(HM|MH)(h*mh*|(h*mh*(h*mh*m)+)h*)$',cadeia).group().split()\n",
    "        if verificacao == cadeia.split():\n",
    "            return 'Cadeia aceita'\n",
    "        else:\n",
    "            return 'Cadeia rejeitada'"
   ]
  },
  {
   "cell_type": "code",
   "execution_count": 19,
   "id": "8fe85dd6",
   "metadata": {},
   "outputs": [
    {
     "name": "stdout",
     "output_type": "stream",
     "text": [
      "Deverão ser aceitos:\n",
      "\n",
      "Deverão ser rejeitados:\n"
     ]
    }
   ],
   "source": [
    "bAceitos = []\n",
    "\n",
    "bRejeitados = []\n",
    "\n",
    "print('Deverão ser aceitos:')\n",
    "for i in bAceitos:\n",
    "    print(b_2(i))\n",
    "\n",
    "print('\\nDeverão ser rejeitados:')   \n",
    "\n",
    "for i in bRejeitados:\n",
    "    print(b_2(i))"
   ]
  },
  {
   "cell_type": "markdown",
   "id": "78245ee0",
   "metadata": {},
   "source": [
    "### c) Casais heterossexuais mais velhos que os filhos, com a filha mais velha mulher e o filho mais novo homem"
   ]
  },
  {
   "cell_type": "code",
   "execution_count": 34,
   "id": "627c3947",
   "metadata": {},
   "outputs": [],
   "source": [
    "def c_2(cadeia):\n",
    "    if re.match('(HM|MH)(m[hm]*h)$',cadeia) == None:\n",
    "        return 'Cadeia rejeitada'\n",
    "    else:\n",
    "        verificacao = re.match('(HM|MH)(m[hm]*h)$',cadeia).group().split()\n",
    "        if verificacao == cadeia.split():\n",
    "            return 'Cadeia aceita'\n",
    "        else:\n",
    "            return 'Cadeia rejeitada'"
   ]
  },
  {
   "cell_type": "code",
   "execution_count": 21,
   "id": "71898433",
   "metadata": {},
   "outputs": [
    {
     "name": "stdout",
     "output_type": "stream",
     "text": [
      "Deverão ser aceitos:\n",
      "\n",
      "Deverão ser rejeitados:\n"
     ]
    }
   ],
   "source": [
    "cAceitos = []\n",
    "\n",
    "cRejeitados = []\n",
    "\n",
    "print('Deverão ser aceitos:')\n",
    "for i in cAceitos:\n",
    "    print(c_2(i))\n",
    "\n",
    "print('\\nDeverão ser rejeitados:')   \n",
    "\n",
    "for i in cRejeitados:\n",
    "    print(c_2(i))"
   ]
  },
  {
   "cell_type": "markdown",
   "id": "e4712e00",
   "metadata": {},
   "source": [
    "### d)Casais homossexuais mais velhos que os filhos, com pelo menos seis filhos, em que os dois primeiros filhos formam um casal e os últimos também"
   ]
  },
  {
   "cell_type": "code",
   "execution_count": 33,
   "id": "0cd94cb7",
   "metadata": {},
   "outputs": [],
   "source": [
    "def d_2(cadeia):\n",
    "    if re.match('(HH|MM)(mh[hm]{2,}mh|hm[hm]{2,}hm|mh[hm]{2,}hm|hm[hm]{2,}mh)$',cadeia) == None:\n",
    "        return 'Cadeia rejeitada'\n",
    "    else:\n",
    "        verificacao = re.match('(HH|MM)(mh[hm]{2,}mh|hm[hm]{2,}hm|mh[hm]{2,}hm|hm[hm]{2,}mh)$',cadeia).group().split()\n",
    "        if verificacao == cadeia.split():\n",
    "            return 'Cadeia aceita'\n",
    "        else:\n",
    "            return 'Cadeia rejeitada'"
   ]
  },
  {
   "cell_type": "code",
   "execution_count": 23,
   "id": "d81f8c47",
   "metadata": {},
   "outputs": [
    {
     "name": "stdout",
     "output_type": "stream",
     "text": [
      "Deverão ser aceitos:\n",
      "\n",
      "Deverão ser rejeitados:\n"
     ]
    }
   ],
   "source": [
    "dAceitos = []\n",
    "\n",
    "dRejeitados = []\n",
    "\n",
    "print('Deverão ser aceitos:')\n",
    "for i in dAceitos:\n",
    "    print(d_2(i))\n",
    "\n",
    "print('\\nDeverão ser rejeitados:')   \n",
    "\n",
    "for i in dRejeitados:\n",
    "    print(d_2(i))"
   ]
  },
  {
   "cell_type": "markdown",
   "id": "932d5139",
   "metadata": {},
   "source": [
    "### e) Casais homossexuais mais velhos que os filhos, em que o sexo dos filhos é alternado conforme a ordem de nascimento"
   ]
  },
  {
   "cell_type": "code",
   "execution_count": 32,
   "id": "049942de",
   "metadata": {},
   "outputs": [],
   "source": [
    "def e_2(cadeia):\n",
    "    if re.match('(HH|MM)((h(?!h))|m(?!m))+$',cadeia) == None:\n",
    "        return 'Cadeia rejeitada'\n",
    "    else:\n",
    "        verificacao = re.match('(HH|MM)((h(?!h))|m(?!m))+$',cadeia).group().split()\n",
    "        if verificacao == cadeia.split():\n",
    "            return 'Cadeia aceita'\n",
    "        else:\n",
    "            return 'Cadeia rejeitada'"
   ]
  },
  {
   "cell_type": "code",
   "execution_count": 25,
   "id": "2458a770",
   "metadata": {},
   "outputs": [
    {
     "name": "stdout",
     "output_type": "stream",
     "text": [
      "Deverão ser aceitos:\n",
      "\n",
      "Deverão ser rejeitados:\n"
     ]
    }
   ],
   "source": [
    "eAceitos = []\n",
    "\n",
    "eRejeitados = []\n",
    "\n",
    "print('Deverão ser aceitos:')\n",
    "for i in eAceitos:\n",
    "    print(e_2(i))\n",
    "\n",
    "print('\\nDeverão ser rejeitados:')   \n",
    "\n",
    "for i in eRejeitados:\n",
    "    print(e_2(i))"
   ]
  },
  {
   "cell_type": "markdown",
   "id": "de31a8f4",
   "metadata": {},
   "source": [
    "### f) Casais homossexuais mais velhos que os filhos, com qualquer quantidade de filhos homens e mulheres, mas que não tiveram dois filhos homens consecutivos"
   ]
  },
  {
   "cell_type": "code",
   "execution_count": 31,
   "id": "f430156f",
   "metadata": {},
   "outputs": [],
   "source": [
    "def f_2(cadeia):\n",
    "    if re.match('(HH|MM)((h(?!h))|m)*$',cadeia) == None:\n",
    "        return 'Cadeia rejeitada'\n",
    "    else:\n",
    "        verificacao = re.match('(HH|MM)((h(?!h))|m)*$',cadeia).group().split()\n",
    "        if verificacao == cadeia.split():\n",
    "            return 'Cadeia aceita'\n",
    "        else:\n",
    "            return 'Cadeia rejeitada'"
   ]
  },
  {
   "cell_type": "code",
   "execution_count": 27,
   "id": "c29b5f6c",
   "metadata": {},
   "outputs": [
    {
     "name": "stdout",
     "output_type": "stream",
     "text": [
      "Deverão ser aceitos:\n",
      "\n",
      "Deverão ser rejeitados:\n"
     ]
    }
   ],
   "source": [
    "fAceitos = []\n",
    "\n",
    "fRejeitados = []\n",
    "\n",
    "print('Deverão ser aceitos:')\n",
    "for i in fAceitos:\n",
    "    print(f_2(i))\n",
    "\n",
    "print('\\nDeverão ser rejeitados:')   \n",
    "\n",
    "for i in fRejeitados:\n",
    "    print(f_2(i))"
   ]
  },
  {
   "cell_type": "markdown",
   "id": "b7fe1d85",
   "metadata": {},
   "source": [
    "### g) Arranjo de no mínimo x∈ℕ e no máximo y∈ℕ , com x>0 , y>0 , e x≤y , de adultos (Hs ou Ms) mais velhos que os filhos, com qualquer quantidade de filhos homens e mulheres, mas que os três filhos mais novos não foram homens"
   ]
  },
  {
   "cell_type": "code",
   "execution_count": 30,
   "id": "babc0631",
   "metadata": {},
   "outputs": [],
   "source": [
    "def g_2(cadeia):\n",
    "    if re.match('(H|M){3,5}((h|m)*m{3,}|m*)$',cadeia) == None:\n",
    "        return 'Cadeia rejeitada'\n",
    "    else:\n",
    "        verificacao = re.match('(H|M){3,5}((h|m)*m{3,}|m*)$',cadeia).group().split()\n",
    "        if verificacao == cadeia.split():\n",
    "            return 'Cadeia aceita'\n",
    "        else:\n",
    "            return 'Cadeia rejeitada'"
   ]
  },
  {
   "cell_type": "code",
   "execution_count": 29,
   "id": "254b7f56",
   "metadata": {},
   "outputs": [
    {
     "name": "stdout",
     "output_type": "stream",
     "text": [
      "Deverão ser aceitos:\n",
      "Cadeia aceita\n",
      "\n",
      "Deverão ser rejeitados:\n"
     ]
    }
   ],
   "source": [
    "gAceitos = ['HHMmmmhmmm']\n",
    "\n",
    "gRejeitados = []\n",
    "\n",
    "print('Deverão ser aceitos:')\n",
    "for i in gAceitos:\n",
    "    print(g_2(i))\n",
    "\n",
    "print('\\nDeverão ser rejeitados:')   \n",
    "\n",
    "for i in gRejeitados:\n",
    "    print(g_2(i))"
   ]
  },
  {
   "cell_type": "code",
   "execution_count": null,
   "id": "2d4c9daf",
   "metadata": {},
   "outputs": [],
   "source": []
  }
 ],
 "metadata": {
  "kernelspec": {
   "display_name": "Python 3 (ipykernel)",
   "language": "python",
   "name": "python3"
  },
  "language_info": {
   "codemirror_mode": {
    "name": "ipython",
    "version": 3
   },
   "file_extension": ".py",
   "mimetype": "text/x-python",
   "name": "python",
   "nbconvert_exporter": "python",
   "pygments_lexer": "ipython3",
   "version": "3.9.7"
  }
 },
 "nbformat": 4,
 "nbformat_minor": 5
}
